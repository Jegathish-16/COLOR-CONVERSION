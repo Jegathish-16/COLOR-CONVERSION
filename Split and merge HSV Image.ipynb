{
 "cells": [
  {
   "cell_type": "code",
   "execution_count": 1,
   "id": "de46e781",
   "metadata": {},
   "outputs": [],
   "source": [
    "import cv2\n",
    "img = cv2.imread('black.jpg')\n",
    "img1= cv2.resize(img, (270,190))\n",
    "hsv = cv2.cvtColor(img1 , cv2.COLOR_BGR2HSV)\n",
    "cv2.imshow(\"INITIAL_HSV \", hsv)\n",
    "h,s,v = cv2.split(hsv)\n",
    "cv2.imshow(\"RED MODEL\", h)\n",
    "cv2.imshow(\"GREEN MODEL\", s)\n",
    "cv2.imshow(\"BLUE MODEL \", v)\n",
    "merger = cv2.merge([h,s,v])\n",
    "cv2.imshow(\"MERGED IMAGE\", merger )\n",
    "cv2.waitKey(0)\n",
    "cv2.destroyAllWindows()"
   ]
  },
  {
   "cell_type": "code",
   "execution_count": null,
   "id": "abec002c",
   "metadata": {},
   "outputs": [],
   "source": []
  }
 ],
 "metadata": {
  "kernelspec": {
   "display_name": "Python 3",
   "language": "python",
   "name": "python3"
  },
  "language_info": {
   "codemirror_mode": {
    "name": "ipython",
    "version": 3
   },
   "file_extension": ".py",
   "mimetype": "text/x-python",
   "name": "python",
   "nbconvert_exporter": "python",
   "pygments_lexer": "ipython3",
   "version": "3.8.8"
  }
 },
 "nbformat": 4,
 "nbformat_minor": 5
}
