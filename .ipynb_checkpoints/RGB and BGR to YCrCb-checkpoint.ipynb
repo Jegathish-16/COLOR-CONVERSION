{
 "cells": [
  {
   "cell_type": "code",
   "execution_count": 1,
   "id": "d03ab0a0",
   "metadata": {},
   "outputs": [
    {
     "data": {
      "text/plain": [
       "<function destroyAllWindows>"
      ]
     },
     "execution_count": 1,
     "metadata": {},
     "output_type": "execute_result"
    }
   ],
   "source": [
    "# RGB TO YCrCb\n",
    "import cv2\n",
    "ori=cv2.imread('black.jpg')\n",
    "YCrCb_image = cv2.cvtColor(ori, cv2.COLOR_RGB2YCrCb)\n",
    "cv2.imshow('RGB_YCRCB',YCrCb_image)\n",
    "cv2.waitKey(0)\n",
    "cv2.destroyAllWindows"
   ]
  },
  {
   "cell_type": "code",
   "execution_count": 2,
   "id": "59b812bd",
   "metadata": {},
   "outputs": [
    {
     "data": {
      "text/plain": [
       "<function destroyAllWindows>"
      ]
     },
     "execution_count": 2,
     "metadata": {},
     "output_type": "execute_result"
    }
   ],
   "source": [
    "# RGB TO YCrCb\n",
    "import cv2\n",
    "ori=cv2.imread('black.jpg')\n",
    "YCrCb_image = cv2.cvtColor(ori, cv2.COLOR_BGR2YCrCb)\n",
    "cv2.imshow('BGR_YCRCB',YCrCb_image)\n",
    "cv2.waitKey(0)\n",
    "cv2.destroyAllWindows"
   ]
  },
  {
   "cell_type": "code",
   "execution_count": null,
   "id": "ddb06dfc",
   "metadata": {},
   "outputs": [],
   "source": []
  }
 ],
 "metadata": {
  "kernelspec": {
   "display_name": "Python 3",
   "language": "python",
   "name": "python3"
  },
  "language_info": {
   "codemirror_mode": {
    "name": "ipython",
    "version": 3
   },
   "file_extension": ".py",
   "mimetype": "text/x-python",
   "name": "python",
   "nbconvert_exporter": "python",
   "pygments_lexer": "ipython3",
   "version": "3.8.8"
  }
 },
 "nbformat": 4,
 "nbformat_minor": 5
}
