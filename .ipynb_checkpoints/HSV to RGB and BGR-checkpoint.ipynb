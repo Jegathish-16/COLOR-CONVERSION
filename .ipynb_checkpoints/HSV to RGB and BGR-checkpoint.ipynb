{
 "cells": [
  {
   "cell_type": "code",
   "execution_count": 1,
   "id": "dcf1c26b",
   "metadata": {},
   "outputs": [
    {
     "data": {
      "text/plain": [
       "<function destroyAllWindows>"
      ]
     },
     "execution_count": 1,
     "metadata": {},
     "output_type": "execute_result"
    }
   ],
   "source": [
    "# HSV TO RGB\n",
    "import cv2\n",
    "ori=cv2.imread('black.jpg')\n",
    "cv2.imshow('Original',ori)\n",
    "h_r=cv2.cvtColor(ori,cv2.COLOR_HSV2RGB)\n",
    "cv2.imshow('HSV_RGB',h_r)\n",
    "cv2.waitKey(0)\n",
    "cv2.destroyAllWindows"
   ]
  },
  {
   "cell_type": "code",
   "execution_count": 2,
   "id": "592e7f3c",
   "metadata": {},
   "outputs": [
    {
     "data": {
      "text/plain": [
       "<function destroyAllWindows>"
      ]
     },
     "execution_count": 2,
     "metadata": {},
     "output_type": "execute_result"
    }
   ],
   "source": [
    "# HSV TO BGR\n",
    "import cv2\n",
    "ori=cv2.imread('black.jpg')\n",
    "cv2.imshow('Original',ori)\n",
    "h_b=cv2.cvtColor(ori,cv2.COLOR_HSV2BGR)\n",
    "cv2.imshow('HSV_BGR',h_b)\n",
    "cv2.waitKey(0)\n",
    "cv2.destroyAllWindows"
   ]
  },
  {
   "cell_type": "code",
   "execution_count": null,
   "id": "da8452fd",
   "metadata": {},
   "outputs": [],
   "source": []
  }
 ],
 "metadata": {
  "kernelspec": {
   "display_name": "Python 3",
   "language": "python",
   "name": "python3"
  },
  "language_info": {
   "codemirror_mode": {
    "name": "ipython",
    "version": 3
   },
   "file_extension": ".py",
   "mimetype": "text/x-python",
   "name": "python",
   "nbconvert_exporter": "python",
   "pygments_lexer": "ipython3",
   "version": "3.8.8"
  }
 },
 "nbformat": 4,
 "nbformat_minor": 5
}
